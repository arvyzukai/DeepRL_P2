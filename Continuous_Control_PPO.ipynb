{
 "cells": [
  {
   "cell_type": "markdown",
   "metadata": {},
   "source": [
    "# Continuous Control\n",
    "\n",
    "---\n",
    "\n",
    "You are welcome to use this coding environment to train your agent for the project.  Follow the instructions below to get started!\n",
    "\n",
    "### 1. Start the Environment\n",
    "\n",
    "Run the next code cell to install a few packages.  This line will take a few minutes to run!"
   ]
  },
  {
   "cell_type": "code",
   "execution_count": 1,
   "metadata": {},
   "outputs": [],
   "source": [
    "#!pip -q install ./python"
   ]
  },
  {
   "cell_type": "markdown",
   "metadata": {},
   "source": [
    "The environments corresponding to both versions of the environment are already saved in the Workspace and can be accessed at the file paths provided below.  \n",
    "\n",
    "Please select one of the two options below for loading the environment."
   ]
  },
  {
   "cell_type": "code",
   "execution_count": 2,
   "metadata": {},
   "outputs": [],
   "source": [
    "%config Completer.use_jedi = False"
   ]
  },
  {
   "cell_type": "code",
   "execution_count": 3,
   "metadata": {},
   "outputs": [
    {
     "name": "stderr",
     "output_type": "stream",
     "text": [
      "INFO:unityagents:\n",
      "'Academy' started successfully!\n",
      "Unity Academy name: Academy\n",
      "        Number of Brains: 1\n",
      "        Number of External Brains : 1\n",
      "        Lesson number : 0\n",
      "        Reset Parameters :\n",
      "\t\tgoal_speed -> 1.0\n",
      "\t\tgoal_size -> 5.0\n",
      "Unity brain name: ReacherBrain\n",
      "        Number of Visual Observations (per agent): 0\n",
      "        Vector Observation space type: continuous\n",
      "        Vector Observation space size (per agent): 33\n",
      "        Number of stacked Vector Observation: 1\n",
      "        Vector Action space type: continuous\n",
      "        Vector Action space size (per agent): 4\n",
      "        Vector Action descriptions: , , , \n"
     ]
    }
   ],
   "source": [
    "from unityagents import UnityEnvironment\n",
    "import numpy as np\n",
    "\n",
    "# select this option to load version 1 (with a single agent) of the environment\n",
    "\n",
    "############### Change file_name argument to your path ########################\n",
    "env = UnityEnvironment(file_name=r'C:\\Users\\Ai\\Documents\\openAI\\DeepRL_P2\\Reacher_Windows_x86_64\\Reacher.exe')\n",
    "#env = UnityEnvironment(file_name='/Reacher_One_Linux_NoVis/Reacher_One_Linux_NoVis.x86_64') # for Linux\n",
    "\n",
    "# select this option to load version 2 (with 20 agents) of the environment\n",
    "# env = UnityEnvironment(file_name=r'C:\\Users\\Ai\\Documents\\openAI\\DeepRL_P2\\Reacher_Windows_x86_64_20\\Reacher.exe')"
   ]
  },
  {
   "cell_type": "markdown",
   "metadata": {},
   "source": [
    "Environments contain **_brains_** which are responsible for deciding the actions of their associated agents. Here we check for the first brain available, and set it as the default brain we will be controlling from Python."
   ]
  },
  {
   "cell_type": "code",
   "execution_count": 4,
   "metadata": {},
   "outputs": [],
   "source": [
    "# get the default brain\n",
    "brain_name = env.brain_names[0]\n",
    "brain = env.brains[brain_name]"
   ]
  },
  {
   "cell_type": "markdown",
   "metadata": {},
   "source": [
    "### 2. Examine the State and Action Spaces\n",
    "\n",
    "Run the code cell below to print some information about the environment."
   ]
  },
  {
   "cell_type": "code",
   "execution_count": 5,
   "metadata": {},
   "outputs": [
    {
     "name": "stdout",
     "output_type": "stream",
     "text": [
      "Number of agents: 1\n",
      "Size of each action: 4\n",
      "There are 1 agents. Each observes a state with length: 33\n",
      "The state for the first agent looks like: [ 0.00000000e+00 -4.00000000e+00  0.00000000e+00  1.00000000e+00\n",
      " -0.00000000e+00 -0.00000000e+00 -4.37113883e-08  0.00000000e+00\n",
      "  0.00000000e+00  0.00000000e+00  0.00000000e+00  0.00000000e+00\n",
      "  0.00000000e+00  0.00000000e+00 -1.00000000e+01  0.00000000e+00\n",
      "  1.00000000e+00 -0.00000000e+00 -0.00000000e+00 -4.37113883e-08\n",
      "  0.00000000e+00  0.00000000e+00  0.00000000e+00  0.00000000e+00\n",
      "  0.00000000e+00  0.00000000e+00  5.75471878e+00 -1.00000000e+00\n",
      "  5.55726671e+00  0.00000000e+00  1.00000000e+00  0.00000000e+00\n",
      " -1.68164849e-01]\n"
     ]
    }
   ],
   "source": [
    "# reset the environment\n",
    "env_info = env.reset(train_mode=True)[brain_name]\n",
    "\n",
    "# number of agents\n",
    "num_agents = len(env_info.agents)\n",
    "print('Number of agents:', num_agents)\n",
    "\n",
    "# size of each action\n",
    "action_size = brain.vector_action_space_size\n",
    "print('Size of each action:', action_size)\n",
    "\n",
    "# examine the state space \n",
    "states = env_info.vector_observations\n",
    "state_size = states.shape[1]\n",
    "print('There are {} agents. Each observes a state with length: {}'.format(states.shape[0], state_size))\n",
    "print('The state for the first agent looks like:', states[0])"
   ]
  },
  {
   "cell_type": "markdown",
   "metadata": {},
   "source": [
    "### 3. Take Random Actions in the Environment\n",
    "\n",
    "In the next code cell, you will learn how to use the Python API to control the agent and receive feedback from the environment.\n",
    "\n",
    "Note that **in this coding environment, you will not be able to watch the agents while they are training**, and you should set `train_mode=True` to restart the environment."
   ]
  },
  {
   "cell_type": "code",
   "execution_count": 6,
   "metadata": {},
   "outputs": [
    {
     "name": "stdout",
     "output_type": "stream",
     "text": [
      "Total score (averaged over agents) this episode: 0.0\n"
     ]
    }
   ],
   "source": [
    "env_info = env.reset(train_mode=True)[brain_name]      # reset the environment    \n",
    "states = env_info.vector_observations                  # get the current state (for each agent)\n",
    "scores = np.zeros(num_agents)                          # initialize the score (for each agent)\n",
    "while True:\n",
    "    actions = np.random.randn(num_agents, action_size) # select an action (for each agent)\n",
    "    actions = np.clip(actions, -1, 1)                  # all actions between -1 and 1\n",
    "    env_info = env.step(actions)[brain_name]           # send all actions to tne environment\n",
    "    next_states = env_info.vector_observations         # get next state (for each agent)\n",
    "    rewards = env_info.rewards                         # get reward (for each agent)\n",
    "    dones = env_info.local_done                        # see if episode finished\n",
    "    scores += env_info.rewards                         # update the score (for each agent)\n",
    "    states = next_states                               # roll over states to next time step\n",
    "    if np.any(dones):                                  # exit loop if episode finished\n",
    "        break\n",
    "print('Total score (averaged over agents) this episode: {}'.format(np.mean(scores)))"
   ]
  },
  {
   "cell_type": "markdown",
   "metadata": {},
   "source": [
    "When finished, you can close the environment."
   ]
  },
  {
   "cell_type": "code",
   "execution_count": 7,
   "metadata": {},
   "outputs": [],
   "source": [
    "#env.close()"
   ]
  },
  {
   "cell_type": "markdown",
   "metadata": {},
   "source": [
    "### 4. Build an Agent"
   ]
  },
  {
   "cell_type": "code",
   "execution_count": 8,
   "metadata": {},
   "outputs": [],
   "source": [
    "import torch\n",
    "import torch.nn as nn\n",
    "import torch.nn.functional as F"
   ]
  },
  {
   "cell_type": "code",
   "execution_count": 9,
   "metadata": {},
   "outputs": [],
   "source": [
    "#device = torch.device(\"cuda:0\" if torch.cuda.is_available() else \"cpu\")\n",
    "#device\n",
    "device = \"cpu\""
   ]
  },
  {
   "cell_type": "markdown",
   "metadata": {},
   "source": [
    "##### 4.1. Policy Network architecture"
   ]
  },
  {
   "cell_type": "code",
   "execution_count": 10,
   "metadata": {},
   "outputs": [],
   "source": [
    "import numpy as np\n",
    "\n",
    "import torch\n",
    "import torch.nn as nn\n",
    "import torch.nn.functional as F\n",
    "import torch.optim as optim\n",
    "\n",
    "seed = torch.manual_seed(0)\n",
    "np.random.seed(0)\n",
    "   \n",
    "class ActorNN(nn.Module):\n",
    "    \n",
    "    def __init__(self, state_size, action_size):\n",
    "        super(ActorNN, self).__init__()\n",
    "        self.fc1 = nn.Linear(state_size, 256)\n",
    "        self.fc2 = nn.Linear(256, 64)\n",
    "        self.fc3 = nn.Linear(64, action_size)\n",
    "        \n",
    "\n",
    "    def forward(self, x):\n",
    "        x = F.relu(self.fc1(x))\n",
    "        x = F.relu(self.fc2(x))\n",
    "        x = F.tanh(self.fc3(x))\n",
    "        return x\n",
    "    \n",
    "    \n",
    "class CriticNN(nn.Module):\n",
    "    \n",
    "    def __init__(self, state_size):\n",
    "        super(CriticNN, self).__init__()\n",
    "        self.fc1 = nn.Linear(state_size, 512)\n",
    "        self.fc2 = nn.Linear(512, 256)\n",
    "        self.fc3 = nn.Linear(256, 64)\n",
    "        self.fc4 = nn.Linear(64, 1)\n",
    "\n",
    "    def forward(self, x):\n",
    "        x = F.relu(self.fc1(x))\n",
    "        x = F.relu(self.fc2(x))\n",
    "        x = F.relu(self.fc3(x))\n",
    "        x = self.fc4(x)\n",
    "        return x\n",
    "\n",
    "\n",
    "class PolicyNN(nn.Module):\n",
    "    \n",
    "    def __init__(self, state_size, action_size):\n",
    "        super(PolicyNN, self).__init__()\n",
    "        self.actor_policy = ActorNN(state_size, action_size)\n",
    "        self.critic_value = CriticNN(state_size)\n",
    "        # for action sampling in buffer and action log probability calculation\n",
    "        self.std = nn.Parameter(torch.ones(1, action_size))\n",
    "        self.to(device)\n",
    "\n",
    "    def forward(self, states, action=None):\n",
    "        states = torch.Tensor(states)\n",
    "        a = self.actor_policy(states)\n",
    "        v = self.critic_value(states)\n",
    "        \n",
    "        dist = torch.distributions.Normal(a, self.std)\n",
    "        if action is None: # action sampling\n",
    "            action = dist.sample()\n",
    "        log_prob = dist.log_prob(action)\n",
    "        log_prob = torch.sum(log_prob, dim=1, keepdim=True)\n",
    "        return action, log_prob, v"
   ]
  },
  {
   "cell_type": "markdown",
   "metadata": {},
   "source": [
    "##### 4.2. Helper object for batch optimization"
   ]
  },
  {
   "cell_type": "code",
   "execution_count": 11,
   "metadata": {},
   "outputs": [],
   "source": [
    "class Batcher:\n",
    "    \n",
    "    def __init__(self, batch_size, data):\n",
    "        self.batch_size = batch_size\n",
    "        self.data = data\n",
    "        self.num_entries = len(data[0])\n",
    "        self.reset()\n",
    "\n",
    "    def reset(self):\n",
    "        self.batch_start = 0\n",
    "        self.batch_end = self.batch_start + self.batch_size\n",
    "\n",
    "    def end(self):\n",
    "        return self.batch_start >= self.num_entries\n",
    "\n",
    "    def next_batch(self):\n",
    "        batch = []\n",
    "        for d in self.data:\n",
    "            batch.append(d[self.batch_start: self.batch_end])\n",
    "        self.batch_start = self.batch_end\n",
    "        self.batch_end = min(self.batch_start + self.batch_size, self.num_entries)\n",
    "        return batch\n",
    "\n",
    "    def shuffle(self):\n",
    "        indices = np.arange(self.num_entries)\n",
    "        np.random.shuffle(indices)\n",
    "        self.data = [d[indices] for d in self.data]"
   ]
  },
  {
   "cell_type": "markdown",
   "metadata": {},
   "source": [
    "##### 4.3. The Agent - Proximal Policy Optimization using Actor and Critic"
   ]
  },
  {
   "cell_type": "code",
   "execution_count": 12,
   "metadata": {},
   "outputs": [],
   "source": [
    "#from IPython.core.debugger import set_trace"
   ]
  },
  {
   "cell_type": "code",
   "execution_count": 13,
   "metadata": {},
   "outputs": [],
   "source": [
    "import numpy as np\n",
    "#import random\n",
    "import torch\n",
    "import torch.nn as nn\n",
    "\n",
    "\n",
    "class PPOAgent(object):\n",
    "    \n",
    "    def __init__(self, environment, brain_name, policy_network, optimizer, hyperparameters):\n",
    "\n",
    "        self.network = policy_network\n",
    "        self.optimizer = optimizer\n",
    "        self.hyperparameters = hyperparameters\n",
    "        \n",
    "        self.environment = environment\n",
    "        self.brain_name = brain_name        \n",
    "        env_info = environment.reset(train_mode=True)[brain_name]\n",
    "        self.num_agents = len(env_info.agents)\n",
    "        self.states = env_info.vector_observations\n",
    "        self.ploss = []\n",
    "        self.vloss = []\n",
    "        self.step_count = 0\n",
    "\n",
    "    def step(self):\n",
    "        self.step_count += 1\n",
    "        buffer = [] # on-policy buffer filling\n",
    "        hyperparameters = self.hyperparameters\n",
    "        \n",
    "        # fill critic's memory with policy samples\n",
    "        env_info = self.environment.reset(train_mode=True)[self.brain_name]    \n",
    "        self.states = env_info.vector_observations  \n",
    "        states = self.states\n",
    "        \n",
    "        self.network.eval()\n",
    "        with torch.no_grad():\n",
    "            for _ in range(hyperparameters['buffer_size']):\n",
    "                actions, log_probs, values = self.network(states)\n",
    "                env_info = self.environment.step(actions.cpu().detach().numpy())[self.brain_name]\n",
    "                next_states = env_info.vector_observations\n",
    "                rewards = env_info.rewards\n",
    "                dones = np.array([1 if t else 0 for t in env_info.local_done])\n",
    "\n",
    "                buffer.append([states, values.detach(), actions.detach(), log_probs.detach(), rewards, 1 - dones])\n",
    "                states = next_states\n",
    "\n",
    "            self.states = states\n",
    "            pending_value = self.network(states)[-1]\n",
    "            buffer.append([states, pending_value, None, None, None, None])\n",
    "        self.network.train()\n",
    "        \n",
    "        # process buffer and calculate advantages for learning \n",
    "        processed_buffer = [None] * (len(buffer) - 1)\n",
    "        advantages = torch.Tensor(np.zeros((self.num_agents, 1)))\n",
    "        returns = pending_value.detach()\n",
    "        for i in reversed(range(len(buffer) - 1)): # reversed\n",
    "            states, value, actions, log_probs, rewards, dones = buffer[i]\n",
    " \n",
    "            states = torch.Tensor(states)\n",
    "            actions = torch.Tensor(actions)\n",
    "            rewards = torch.Tensor(rewards).unsqueeze(1)\n",
    "            dones = torch.Tensor(dones).unsqueeze(1)\n",
    "\n",
    "            next_value = buffer[i + 1][1]\n",
    "            returns = rewards + hyperparameters['discount_rate'] * dones * returns\n",
    "            # advantage calculation based on critic values\n",
    "            td_estimate = rewards + hyperparameters['discount_rate'] * dones * next_value.detach() - value.detach() * dones\n",
    "            processed_buffer[i] = [states, actions, log_probs, returns, td_estimate]\n",
    "\n",
    "        states, actions, log_probs_critic, returns, advantages = map(lambda x: torch.cat(x, dim=0), zip(*processed_buffer))\n",
    "        advantages = (advantages - advantages.mean()) / advantages.std() # normalize advantages\n",
    "        #set_trace()\n",
    "        # batch policy optimization (learning)\n",
    "        batcher = Batcher(states.size(0) // hyperparameters['batch_size'], [np.arange(states.size(0))])\n",
    "        for i in range(hyperparameters['optimization_epochs']):\n",
    "            batcher.shuffle()\n",
    "            while not batcher.end():\n",
    "                batch_indices = batcher.next_batch()[0]\n",
    "                batch_indices = torch.Tensor(batch_indices).long()\n",
    "                sampled_states = states[batch_indices]\n",
    "                sampled_actions = actions[batch_indices]\n",
    "                sampled_log_probs = log_probs_critic[batch_indices]\n",
    "                sampled_returns = returns[batch_indices]\n",
    "                sampled_advantages = advantages[batch_indices]\n",
    "                \n",
    "                _, log_probs, values = self.network(sampled_states, sampled_actions)\n",
    "                ratio = (log_probs - sampled_log_probs).exp()      # re-weighting factor\n",
    "                obj = ratio * sampled_advantages\n",
    "                obj_clipped = ratio.clamp(1.0 - hyperparameters['ppo_clip'],\n",
    "                                          1.0 + hyperparameters['ppo_clip']) * sampled_advantages\n",
    "                policy_loss = -torch.min(obj, obj_clipped).mean(0) # ppo surrogate function\n",
    "                #self.ploss.append(policy_loss.detach()) # enable if you want to track policy_loss\n",
    "\n",
    "                value_loss = (10/(self.step_count)) * (sampled_returns - values).pow(2).mean()   # initially helps to train policy\n",
    "                #self.vloss.append(value_loss.detach())  # enable if you want to track value_loss\n",
    "\n",
    "                self.optimizer.zero_grad()\n",
    "                (policy_loss + value_loss).backward()\n",
    "                nn.utils.clip_grad_norm_(self.network.parameters(), hyperparameters['gradient_clip'])\n",
    "                self.optimizer.step()"
   ]
  },
  {
   "cell_type": "markdown",
   "metadata": {},
   "source": [
    "##### 4.4. Training routine"
   ]
  },
  {
   "cell_type": "code",
   "execution_count": 14,
   "metadata": {},
   "outputs": [],
   "source": [
    "def score_episode(env, brain_name, policy, num_agents):\n",
    "    env_info = env.reset(train_mode=True)[brain_name]\n",
    "    states = env_info.vector_observations     \n",
    "    scores = np.zeros(num_agents)\n",
    "    while True:\n",
    "        actions, _, _ = policy(states)\n",
    "        env_info = env.step(actions.cpu().detach().numpy())[brain_name]\n",
    "        next_states = env_info.vector_observations\n",
    "        rewards = env_info.rewards\n",
    "        dones = env_info.local_done\n",
    "        scores += env_info.rewards\n",
    "        states = next_states\n",
    "        if np.any(dones):\n",
    "            break\n",
    "    \n",
    "    return np.mean(scores)\n",
    "    \n",
    "def train(env, brain_name, policy, hyperparameters):\n",
    "    optimizer = optim.Adam(policy.parameters(), hyperparameters['adam_learning_rate'],\n",
    "                    eps=hyperparameters['adam_epsilon'])\n",
    "    agent = PPOAgent(env, brain_name, policy, optimizer, hyperparameters)\n",
    "    history = []\n",
    "    running_averages = []\n",
    "    goal_score = 30.0\n",
    "\n",
    "    for i in range(hyperparameters['episode_count']):\n",
    "        agent.step()\n",
    "        last_mean_reward = score_episode(env, brain_name, policy, agent.num_agents)\n",
    "        history.append(last_mean_reward)\n",
    "        running_average = np.mean(np.array(history[-100:]))\n",
    "        running_averages.append(running_average)\n",
    "        if running_average > goal_score:\n",
    "            torch.save(policy.state_dict(), \"ppo-solved.pth\")\n",
    "            break\n",
    "        print('Episode: {:3.0f} Score: {:5.2f} vs. average: {:5.2f} ({:+.2f})'.format(i + 1, last_mean_reward, running_average, (last_mean_reward-running_average)))\n",
    "    return history, running_averages, agent.ploss, agent.vloss\n",
    "\n"
   ]
  },
  {
   "cell_type": "code",
   "execution_count": 15,
   "metadata": {},
   "outputs": [],
   "source": [
    "hyperparameters = {\n",
    "        'episode_count': 1500,\n",
    "        'discount_rate': 0.95,\n",
    "        'gradient_clip': 15,\n",
    "        'buffer_size': 3072,\n",
    "        'optimization_epochs': 2,\n",
    "        'ppo_clip': 0.2,\n",
    "        'batch_size': 512,\n",
    "        'adam_learning_rate': 3e-4,\n",
    "        'adam_epsilon': 1e-4\n",
    "    }"
   ]
  },
  {
   "cell_type": "markdown",
   "metadata": {},
   "source": [
    "##### This section optionally can be skipped to 5. Test Agent"
   ]
  },
  {
   "cell_type": "code",
   "execution_count": 16,
   "metadata": {
    "scrolled": false
   },
   "outputs": [
    {
     "name": "stdout",
     "output_type": "stream",
     "text": [
      "Episode:   1 Score:  0.44 vs. average:  0.44 (+0.00)\n",
      "Episode:   2 Score:  0.13 vs. average:  0.28 (-0.15)\n",
      "Episode:   3 Score:  1.16 vs. average:  0.58 (+0.58)\n",
      "Episode:   4 Score:  0.50 vs. average:  0.56 (-0.06)\n",
      "Episode:   5 Score:  1.13 vs. average:  0.67 (+0.46)\n",
      "Episode:   6 Score:  0.00 vs. average:  0.56 (-0.56)\n",
      "Episode:   7 Score:  0.77 vs. average:  0.59 (+0.18)\n",
      "Episode:   8 Score:  0.20 vs. average:  0.54 (-0.34)\n",
      "Episode:   9 Score:  0.58 vs. average:  0.55 (+0.03)\n",
      "Episode:  10 Score:  0.55 vs. average:  0.55 (+0.00)\n",
      "Episode:  11 Score:  1.79 vs. average:  0.66 (+1.13)\n",
      "Episode:  12 Score:  2.77 vs. average:  0.83 (+1.93)\n",
      "Episode:  13 Score:  2.08 vs. average:  0.93 (+1.15)\n",
      "Episode:  14 Score:  1.91 vs. average:  1.00 (+0.91)\n",
      "Episode:  15 Score:  1.63 vs. average:  1.04 (+0.59)\n",
      "Episode:  16 Score:  1.93 vs. average:  1.10 (+0.83)\n",
      "Episode:  17 Score:  1.44 vs. average:  1.12 (+0.32)\n",
      "Episode:  18 Score:  0.82 vs. average:  1.10 (-0.28)\n",
      "Episode:  19 Score:  1.65 vs. average:  1.13 (+0.52)\n",
      "Episode:  20 Score:  5.09 vs. average:  1.33 (+3.76)\n",
      "Episode:  21 Score:  5.16 vs. average:  1.51 (+3.65)\n",
      "Episode:  22 Score:  1.16 vs. average:  1.49 (-0.33)\n",
      "Episode:  23 Score:  2.95 vs. average:  1.56 (+1.39)\n",
      "Episode:  24 Score:  2.43 vs. average:  1.59 (+0.84)\n",
      "Episode:  25 Score:  2.08 vs. average:  1.61 (+0.47)\n",
      "Episode:  26 Score:  3.04 vs. average:  1.67 (+1.37)\n",
      "Episode:  27 Score:  3.53 vs. average:  1.74 (+1.79)\n",
      "Episode:  28 Score:  3.93 vs. average:  1.82 (+2.11)\n",
      "Episode:  29 Score:  3.98 vs. average:  1.89 (+2.09)\n",
      "Episode:  30 Score:  3.15 vs. average:  1.93 (+1.22)\n",
      "Episode:  31 Score:  3.05 vs. average:  1.97 (+1.08)\n",
      "Episode:  32 Score:  6.54 vs. average:  2.11 (+4.43)\n",
      "Episode:  33 Score:  3.62 vs. average:  2.16 (+1.46)\n",
      "Episode:  34 Score:  6.15 vs. average:  2.27 (+3.88)\n",
      "Episode:  35 Score:  5.31 vs. average:  2.36 (+2.95)\n",
      "Episode:  36 Score:  4.69 vs. average:  2.43 (+2.26)\n",
      "Episode:  37 Score:  5.82 vs. average:  2.52 (+3.30)\n",
      "Episode:  38 Score:  8.34 vs. average:  2.67 (+5.67)\n",
      "Episode:  39 Score:  6.20 vs. average:  2.76 (+3.44)\n",
      "Episode:  40 Score:  7.85 vs. average:  2.89 (+4.96)\n",
      "Episode:  41 Score: 10.77 vs. average:  3.08 (+7.69)\n",
      "Episode:  42 Score:  5.62 vs. average:  3.14 (+2.48)\n",
      "Episode:  43 Score: 11.93 vs. average:  3.35 (+8.58)\n",
      "Episode:  44 Score: 13.05 vs. average:  3.57 (+9.48)\n",
      "Episode:  45 Score: 11.54 vs. average:  3.74 (+7.80)\n",
      "Episode:  46 Score:  7.91 vs. average:  3.83 (+4.08)\n",
      "Episode:  47 Score:  3.68 vs. average:  3.83 (-0.15)\n",
      "Episode:  48 Score: 17.33 vs. average:  4.11 (+13.22)\n",
      "Episode:  49 Score:  3.82 vs. average:  4.11 (-0.29)\n",
      "Episode:  50 Score: 12.38 vs. average:  4.27 (+8.11)\n",
      "Episode:  51 Score: 17.74 vs. average:  4.54 (+13.20)\n",
      "Episode:  52 Score: 12.49 vs. average:  4.69 (+7.80)\n",
      "Episode:  53 Score: 12.13 vs. average:  4.83 (+7.30)\n",
      "Episode:  54 Score:  8.75 vs. average:  4.90 (+3.85)\n",
      "Episode:  55 Score: 17.88 vs. average:  5.14 (+12.74)\n",
      "Episode:  56 Score: 16.82 vs. average:  5.35 (+11.47)\n",
      "Episode:  57 Score: 20.36 vs. average:  5.61 (+14.75)\n",
      "Episode:  58 Score:  9.38 vs. average:  5.67 (+3.71)\n",
      "Episode:  59 Score: 18.55 vs. average:  5.89 (+12.66)\n",
      "Episode:  60 Score: 13.64 vs. average:  6.02 (+7.62)\n",
      "Episode:  61 Score: 20.89 vs. average:  6.27 (+14.62)\n",
      "Episode:  62 Score: 20.21 vs. average:  6.49 (+13.72)\n",
      "Episode:  63 Score: 12.67 vs. average:  6.59 (+6.08)\n",
      "Episode:  64 Score: 20.23 vs. average:  6.80 (+13.43)\n",
      "Episode:  65 Score: 10.79 vs. average:  6.86 (+3.93)\n",
      "Episode:  66 Score: 23.10 vs. average:  7.11 (+15.99)\n",
      "Episode:  67 Score: 24.35 vs. average:  7.37 (+16.98)\n",
      "Episode:  68 Score: 33.67 vs. average:  7.75 (+25.92)\n",
      "Episode:  69 Score: 20.93 vs. average:  7.94 (+12.99)\n",
      "Episode:  70 Score:  7.47 vs. average:  7.94 (-0.47)\n",
      "Episode:  71 Score: 13.93 vs. average:  8.02 (+5.91)\n",
      "Episode:  72 Score: 20.62 vs. average:  8.20 (+12.42)\n",
      "Episode:  73 Score: 16.03 vs. average:  8.30 (+7.73)\n",
      "Episode:  74 Score:  5.98 vs. average:  8.27 (-2.29)\n",
      "Episode:  75 Score: 10.83 vs. average:  8.31 (+2.52)\n",
      "Episode:  76 Score: 16.43 vs. average:  8.41 (+8.02)\n",
      "Episode:  77 Score: 12.56 vs. average:  8.47 (+4.09)\n",
      "Episode:  78 Score: 12.48 vs. average:  8.52 (+3.96)\n",
      "Episode:  79 Score: 20.45 vs. average:  8.67 (+11.78)\n",
      "Episode:  80 Score: 14.71 vs. average:  8.75 (+5.96)\n",
      "Episode:  81 Score: 25.42 vs. average:  8.95 (+16.47)\n",
      "Episode:  82 Score: 25.74 vs. average:  9.16 (+16.58)\n",
      "Episode:  83 Score: 22.21 vs. average:  9.31 (+12.90)\n",
      "Episode:  84 Score: 24.92 vs. average:  9.50 (+15.42)\n",
      "Episode:  85 Score: 18.53 vs. average:  9.61 (+8.92)\n",
      "Episode:  86 Score: 21.73 vs. average:  9.75 (+11.98)\n",
      "Episode:  87 Score: 24.67 vs. average:  9.92 (+14.75)\n",
      "Episode:  88 Score: 25.72 vs. average: 10.10 (+15.62)\n",
      "Episode:  89 Score: 26.69 vs. average: 10.28 (+16.41)\n",
      "Episode:  90 Score: 19.73 vs. average: 10.39 (+9.34)\n",
      "Episode:  91 Score: 18.13 vs. average: 10.47 (+7.66)\n",
      "Episode:  92 Score: 37.89 vs. average: 10.77 (+27.12)\n",
      "Episode:  93 Score: 21.92 vs. average: 10.89 (+11.03)\n",
      "Episode:  94 Score: 18.53 vs. average: 10.97 (+7.56)\n",
      "Episode:  95 Score: 25.12 vs. average: 11.12 (+14.00)\n",
      "Episode:  96 Score: 23.56 vs. average: 11.25 (+12.31)\n",
      "Episode:  97 Score: 25.21 vs. average: 11.40 (+13.81)\n",
      "Episode:  98 Score: 13.42 vs. average: 11.42 (+2.00)\n",
      "Episode:  99 Score: 22.80 vs. average: 11.53 (+11.27)\n",
      "Episode: 100 Score: 13.53 vs. average: 11.55 (+1.98)\n",
      "Episode: 101 Score: 26.80 vs. average: 11.81 (+14.99)\n",
      "Episode: 102 Score: 27.57 vs. average: 12.09 (+15.48)\n",
      "Episode: 103 Score: 25.32 vs. average: 12.33 (+12.99)\n",
      "Episode: 104 Score: 26.05 vs. average: 12.59 (+13.46)\n",
      "Episode: 105 Score: 17.68 vs. average: 12.75 (+4.93)\n",
      "Episode: 106 Score: 24.70 vs. average: 13.00 (+11.70)\n",
      "Episode: 107 Score: 19.18 vs. average: 13.18 (+6.00)\n",
      "Episode: 108 Score: 18.64 vs. average: 13.37 (+5.27)\n",
      "Episode: 109 Score: 16.65 vs. average: 13.53 (+3.12)\n",
      "Episode: 110 Score: 11.65 vs. average: 13.64 (-1.99)\n",
      "Episode: 111 Score: 13.97 vs. average: 13.76 (+0.21)\n",
      "Episode: 112 Score: 19.37 vs. average: 13.93 (+5.44)\n",
      "Episode: 113 Score: 25.99 vs. average: 14.17 (+11.82)\n",
      "Episode: 114 Score: 19.05 vs. average: 14.34 (+4.71)\n",
      "Episode: 115 Score: 21.09 vs. average: 14.53 (+6.56)\n",
      "Episode: 116 Score: 24.58 vs. average: 14.76 (+9.82)\n",
      "Episode: 117 Score: 24.56 vs. average: 14.99 (+9.57)\n",
      "Episode: 118 Score: 23.50 vs. average: 15.22 (+8.28)\n",
      "Episode: 119 Score: 26.60 vs. average: 15.47 (+11.13)\n",
      "Episode: 120 Score: 23.86 vs. average: 15.65 (+8.21)\n",
      "Episode: 121 Score: 24.10 vs. average: 15.84 (+8.26)\n",
      "Episode: 122 Score: 29.88 vs. average: 16.13 (+13.75)\n",
      "Episode: 123 Score: 24.66 vs. average: 16.35 (+8.31)\n",
      "Episode: 124 Score: 22.47 vs. average: 16.55 (+5.92)\n",
      "Episode: 125 Score: 32.38 vs. average: 16.85 (+15.53)\n",
      "Episode: 126 Score: 25.25 vs. average: 17.07 (+8.18)\n",
      "Episode: 127 Score: 27.88 vs. average: 17.32 (+10.56)\n",
      "Episode: 128 Score: 30.34 vs. average: 17.58 (+12.76)\n",
      "Episode: 129 Score: 27.01 vs. average: 17.81 (+9.20)\n",
      "Episode: 130 Score: 22.70 vs. average: 18.01 (+4.69)\n",
      "Episode: 131 Score: 31.15 vs. average: 18.29 (+12.86)\n",
      "Episode: 132 Score: 30.62 vs. average: 18.53 (+12.09)\n",
      "Episode: 133 Score: 32.55 vs. average: 18.82 (+13.73)\n",
      "Episode: 134 Score: 30.13 vs. average: 19.06 (+11.07)\n",
      "Episode: 135 Score: 34.83 vs. average: 19.35 (+15.48)\n",
      "Episode: 136 Score: 26.36 vs. average: 19.57 (+6.79)\n",
      "Episode: 137 Score: 24.72 vs. average: 19.76 (+4.96)\n",
      "Episode: 138 Score: 26.02 vs. average: 19.93 (+6.09)\n",
      "Episode: 139 Score: 31.71 vs. average: 20.19 (+11.52)\n",
      "Episode: 140 Score: 25.22 vs. average: 20.36 (+4.86)\n",
      "Episode: 141 Score: 23.58 vs. average: 20.49 (+3.09)\n",
      "Episode: 142 Score: 25.49 vs. average: 20.69 (+4.80)\n",
      "Episode: 143 Score: 25.59 vs. average: 20.83 (+4.76)\n",
      "Episode: 144 Score: 28.65 vs. average: 20.98 (+7.67)\n",
      "Episode: 145 Score: 34.60 vs. average: 21.21 (+13.39)\n",
      "Episode: 146 Score: 21.46 vs. average: 21.35 (+0.11)\n",
      "Episode: 147 Score: 37.39 vs. average: 21.69 (+15.70)\n",
      "Episode: 148 Score: 33.78 vs. average: 21.85 (+11.93)\n",
      "Episode: 149 Score: 37.18 vs. average: 22.18 (+15.00)\n",
      "Episode: 150 Score: 38.89 vs. average: 22.45 (+16.44)\n",
      "Episode: 151 Score: 34.19 vs. average: 22.61 (+11.58)\n",
      "Episode: 152 Score: 31.72 vs. average: 22.81 (+8.91)\n",
      "Episode: 153 Score: 28.16 vs. average: 22.97 (+5.19)\n",
      "Episode: 154 Score: 38.72 vs. average: 23.27 (+15.45)\n"
     ]
    },
    {
     "name": "stdout",
     "output_type": "stream",
     "text": [
      "Episode: 155 Score: 38.48 vs. average: 23.47 (+15.01)\n",
      "Episode: 156 Score: 37.21 vs. average: 23.68 (+13.53)\n",
      "Episode: 157 Score: 33.98 vs. average: 23.81 (+10.17)\n",
      "Episode: 158 Score: 26.89 vs. average: 23.99 (+2.90)\n",
      "Episode: 159 Score: 36.22 vs. average: 24.16 (+12.06)\n",
      "Episode: 160 Score: 39.11 vs. average: 24.42 (+14.69)\n",
      "Episode: 161 Score: 34.07 vs. average: 24.55 (+9.52)\n",
      "Episode: 162 Score: 39.32 vs. average: 24.74 (+14.58)\n",
      "Episode: 163 Score: 36.09 vs. average: 24.98 (+11.11)\n",
      "Episode: 164 Score: 33.01 vs. average: 25.10 (+7.91)\n",
      "Episode: 165 Score: 37.77 vs. average: 25.37 (+12.40)\n",
      "Episode: 166 Score: 38.10 vs. average: 25.52 (+12.58)\n",
      "Episode: 167 Score: 39.24 vs. average: 25.67 (+13.57)\n",
      "Episode: 168 Score: 38.80 vs. average: 25.72 (+13.08)\n",
      "Episode: 169 Score: 37.12 vs. average: 25.89 (+11.23)\n",
      "Episode: 170 Score: 33.07 vs. average: 26.14 (+6.93)\n",
      "Episode: 171 Score: 35.65 vs. average: 26.36 (+9.29)\n",
      "Episode: 172 Score: 38.17 vs. average: 26.53 (+11.64)\n",
      "Episode: 173 Score: 39.49 vs. average: 26.77 (+12.72)\n",
      "Episode: 174 Score: 36.33 vs. average: 27.07 (+9.26)\n",
      "Episode: 175 Score: 39.33 vs. average: 27.36 (+11.97)\n",
      "Episode: 176 Score: 33.76 vs. average: 27.53 (+6.23)\n",
      "Episode: 177 Score: 39.27 vs. average: 27.80 (+11.47)\n",
      "Episode: 178 Score: 38.40 vs. average: 28.06 (+10.34)\n",
      "Episode: 179 Score: 38.56 vs. average: 28.24 (+10.32)\n",
      "Episode: 180 Score: 37.25 vs. average: 28.46 (+8.79)\n",
      "Episode: 181 Score: 36.44 vs. average: 28.57 (+7.87)\n",
      "Episode: 182 Score: 38.88 vs. average: 28.71 (+10.17)\n",
      "Episode: 183 Score: 38.56 vs. average: 28.87 (+9.69)\n",
      "Episode: 184 Score: 38.51 vs. average: 29.00 (+9.51)\n",
      "Episode: 185 Score: 39.46 vs. average: 29.21 (+10.25)\n",
      "Episode: 186 Score: 38.63 vs. average: 29.38 (+9.25)\n",
      "Episode: 187 Score: 35.74 vs. average: 29.49 (+6.25)\n",
      "Episode: 188 Score: 37.00 vs. average: 29.61 (+7.39)\n",
      "Episode: 189 Score: 39.23 vs. average: 29.73 (+9.50)\n",
      "Episode: 190 Score: 37.35 vs. average: 29.91 (+7.44)\n"
     ]
    }
   ],
   "source": [
    "###### takes some time to train ######\n",
    "\n",
    "\n",
    "policy = PolicyNN(state_size, action_size)\n",
    "history, average_scores, ploss, vloss = train(env, brain_name, policy, hyperparameters)"
   ]
  },
  {
   "cell_type": "markdown",
   "metadata": {},
   "source": [
    "##### Loss tracking (This section optionally can be skipped to 5. Test Agent)"
   ]
  },
  {
   "cell_type": "code",
   "execution_count": null,
   "metadata": {},
   "outputs": [],
   "source": [
    "import matplotlib.pyplot as plt\n",
    "%matplotlib inline\n",
    "\n",
    "fig = plt.figure()\n",
    "ax = fig.add_subplot(111)\n",
    "plt.plot(np.arange(len(ploss)), ploss)\n",
    "plt.ylabel('Policy Loss')\n",
    "plt.xlabel('Step #')\n",
    "plt.show()"
   ]
  },
  {
   "cell_type": "code",
   "execution_count": null,
   "metadata": {},
   "outputs": [],
   "source": [
    "fig = plt.figure()\n",
    "ax = fig.add_subplot(111)\n",
    "plt.plot(np.arange(len(vloss)), vloss)\n",
    "plt.ylabel('Value Loss')\n",
    "plt.xlabel('Step #')\n",
    "plt.show()"
   ]
  },
  {
   "cell_type": "code",
   "execution_count": null,
   "metadata": {},
   "outputs": [],
   "source": [
    "import pandas as pd"
   ]
  },
  {
   "cell_type": "code",
   "execution_count": null,
   "metadata": {},
   "outputs": [],
   "source": [
    "df = pd.DataFrame(np.vstack([np.array(vloss), np.array(ploss)]).T, columns=['vloss', 'ploss'])\n",
    "df"
   ]
  },
  {
   "cell_type": "code",
   "execution_count": null,
   "metadata": {},
   "outputs": [],
   "source": [
    "df.to_pickle('AY.df')"
   ]
  },
  {
   "cell_type": "code",
   "execution_count": null,
   "metadata": {},
   "outputs": [],
   "source": [
    "fig = plt.figure()\n",
    "ax = fig.add_subplot(111)\n",
    "plt.plot(np.arange(len(vloss)), np.array(vloss)+np.array(ploss))\n",
    "plt.ylabel('Total Loss')\n",
    "plt.xlabel('Step #')\n",
    "plt.show()\n",
    "plt.show()"
   ]
  },
  {
   "cell_type": "code",
   "execution_count": null,
   "metadata": {},
   "outputs": [],
   "source": [
    "#env.close()"
   ]
  },
  {
   "cell_type": "markdown",
   "metadata": {},
   "source": [
    "##### 4.5. Plot scores history"
   ]
  },
  {
   "cell_type": "code",
   "execution_count": null,
   "metadata": {},
   "outputs": [],
   "source": [
    "import matplotlib.pyplot as plt\n",
    "%matplotlib inline\n",
    "\n",
    "fig = plt.figure()\n",
    "ax = fig.add_subplot(111)\n",
    "plt.plot(np.arange(len(history)), history)\n",
    "plt.ylabel('Score')\n",
    "plt.xlabel('Episode #')\n",
    "plt.show()"
   ]
  },
  {
   "cell_type": "markdown",
   "metadata": {},
   "source": [
    "### 5. Test the trained Agent"
   ]
  },
  {
   "cell_type": "code",
   "execution_count": null,
   "metadata": {},
   "outputs": [],
   "source": [
    "policy = PolicyNN(state_size, action_size)\n",
    "policy.load_state_dict(torch.load('ppo-solved.pth'))"
   ]
  },
  {
   "cell_type": "code",
   "execution_count": null,
   "metadata": {},
   "outputs": [],
   "source": [
    "env_info = env.reset(train_mode=False)[brain_name]     # reset the environment (train_mode=False shows an agent in action)\n",
    "states = env_info.vector_observations                  # get the current state (for each agent)\n",
    "scores = np.zeros(num_agents)                          # initialize the score (for each agent)\n",
    "while True:\n",
    "    actions, _, _ = policy(states)                     # select an action (for each agent)\n",
    "    env_info = env.step(actions.cpu().detach().numpy())[brain_name]          # send all actions to tne environment\n",
    "    next_states = env_info.vector_observations         # get next state (for each agent)\n",
    "    rewards = env_info.rewards                         # get reward (for each agent)\n",
    "    dones = env_info.local_done                        # see if episode finished\n",
    "    scores += env_info.rewards                         # update the score (for each agent)\n",
    "    states = next_states                               # roll over states to next time step\n",
    "    if np.any(dones):                                  # exit loop if episode finished\n",
    "        break\n",
    "    \n",
    "print(\"Score: {:.2f}\".format(np.mean(scores)))         # print the score (of a single agent)"
   ]
  },
  {
   "cell_type": "code",
   "execution_count": null,
   "metadata": {},
   "outputs": [],
   "source": [
    "env.close()"
   ]
  },
  {
   "cell_type": "code",
   "execution_count": null,
   "metadata": {},
   "outputs": [],
   "source": []
  }
 ],
 "metadata": {
  "kernelspec": {
   "display_name": "Python 3",
   "language": "python",
   "name": "python3"
  },
  "language_info": {
   "codemirror_mode": {
    "name": "ipython",
    "version": 3
   },
   "file_extension": ".py",
   "mimetype": "text/x-python",
   "name": "python",
   "nbconvert_exporter": "python",
   "pygments_lexer": "ipython3",
   "version": "3.6.12"
  }
 },
 "nbformat": 4,
 "nbformat_minor": 2
}
